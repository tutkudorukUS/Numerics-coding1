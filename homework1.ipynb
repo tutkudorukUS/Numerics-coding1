{
  "nbformat": 4,
  "nbformat_minor": 0,
  "metadata": {
    "colab": {
      "provenance": [],
      "authorship_tag": "ABX9TyOcpYgWEdiytxbMzZCrpde5",
      "include_colab_link": true
    },
    "kernelspec": {
      "name": "python3",
      "display_name": "Python 3"
    },
    "language_info": {
      "name": "python"
    }
  },
  "cells": [
    {
      "cell_type": "markdown",
      "metadata": {
        "id": "view-in-github",
        "colab_type": "text"
      },
      "source": [
        "<a href=\"https://colab.research.google.com/github/tutkudorukUS/Numerics-coding1/blob/main/homework1.ipynb\" target=\"_parent\"><img src=\"https://colab.research.google.com/assets/colab-badge.svg\" alt=\"Open In Colab\"/></a>"
      ]
    },
    {
      "cell_type": "code",
      "execution_count": null,
      "metadata": {
        "colab": {
          "base_uri": "https://localhost:8080/"
        },
        "id": "-TRCPTrJ5zAo",
        "outputId": "18b78160-b65a-454a-c049-557db985905e"
      },
      "outputs": [
        {
          "output_type": "stream",
          "name": "stdout",
          "text": [
            "Give me number of steps6\n",
            "Give me your number0.4\n",
            "[0, 1, 1, 0, 0, 1]\n"
          ]
        }
      ],
      "source": [
        "\n",
        "#in this code I am holding the numbers after the decimal in an array. I think this is a simple and useful approach to the problem. For example the result\n",
        "#[0,1,1,0,0,1] implies that I have expanded a rational number and it is in the form for first 6 iterations as  0.011001.....In this code I can decide how many numbers I want\n",
        "#to use in the expansion by using the convert method. While the variable `x` in def convert(x,number of steps) represents the number I want to convert and using  `number of steps` the programmer decides\n",
        "#the exact number of iterations in other words the exact number of numbers he wants in his expansion to be recognized.\n",
        "import math\n",
        "def integerpart(x):\n",
        "  s=math.modf(x)\n",
        "  return int(s\n",
        "             [1])\n",
        "def fractionpart(x):\n",
        "  s=math.modf(x)\n",
        "  return s[0]\n",
        "\n",
        "def convert(x,numberofsteps):\n",
        "  d=[]\n",
        "  for i in range(numberofsteps):\n",
        "    s=integerpart(2*x)\n",
        "    d.append(s)\n",
        "    y=fractionpart(2*x)\n",
        "    if y==0:\n",
        "      break\n",
        "    x=2*x-s\n",
        "\n",
        "  return d\n",
        "s=int(input('Give me number of steps'))\n",
        "d=float(input('Give me your number'))\n",
        "print(convert(d,s))\n",
        "\n",
        "\n",
        "\n"
      ]
    }
  ]
}